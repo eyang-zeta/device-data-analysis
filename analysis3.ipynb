{
 "cells": [
  {
   "cell_type": "code",
   "execution_count": 1,
   "id": "e9d07ebc",
   "metadata": {},
   "outputs": [],
   "source": [
    "import pandas as pd"
   ]
  },
  {
   "cell_type": "code",
   "execution_count": 2,
   "id": "f5bd8ab7",
   "metadata": {},
   "outputs": [],
   "source": [
    "# Read file data to dataframe, explicitly setting S/N columns to string type because Pandas complains \n",
    "# about mixed types in the Paired Processor S/N column\n",
    "data = pd.read_csv('Exercise_Input_20220502_Processor.csv',\n",
    "                       dtype = {'Processor S/N': str, 'Paired Processor S/N': str},\n",
    "                       parse_dates = ['Cloud Uploaded Timestamp From Site'])"
   ]
  },
  {
   "cell_type": "code",
   "execution_count": 3,
   "id": "1547f3fd",
   "metadata": {},
   "outputs": [],
   "source": [
    "# project out the columns needed\n",
    "data = data[['Processor S/N', 'Cloud Uploaded Timestamp From Site']]"
   ]
  },
  {
   "cell_type": "code",
   "execution_count": 4,
   "id": "ef51ee77",
   "metadata": {},
   "outputs": [],
   "source": [
    "# set timeindex\n",
    "data.index = data['Cloud Uploaded Timestamp From Site']"
   ]
  },
  {
   "cell_type": "code",
   "execution_count": 5,
   "id": "4bfa45ed",
   "metadata": {},
   "outputs": [],
   "source": [
    "# filter data by time range\n",
    "mask = (data['Cloud Uploaded Timestamp From Site'] >= '2022-1-1') & \\\n",
    "       (data['Cloud Uploaded Timestamp From Site'] <= '2022-5-31')\n",
    "data_filtered = data[mask]"
   ]
  },
  {
   "cell_type": "code",
   "execution_count": 7,
   "id": "c28c9677",
   "metadata": {},
   "outputs": [],
   "source": [
    "# group by month\n",
    "monthly_uploads = data_filtered.groupby(pd.Grouper(freq='M')).size().reset_index(name='Counts')"
   ]
  },
  {
   "cell_type": "code",
   "execution_count": 8,
   "id": "25ff2583",
   "metadata": {},
   "outputs": [
    {
     "data": {
      "text/plain": [
       "<AxesSubplot:title={'center':'Uploads by Month'}, xlabel='Cloud Uploaded Timestamp From Site'>"
      ]
     },
     "execution_count": 8,
     "metadata": {},
     "output_type": "execute_result"
    },
    {
     "data": {
      "image/png": "[encoded data removed]",
      "text/plain": [
       "<Figure size 720x216 with 1 Axes>"
      ]
     },
     "metadata": {
      "needs_background": "light"
     },
     "output_type": "display_data"
    }
   ],
   "source": [
    "# visualization\n",
    "monthly_uploads.plot.bar(x='Cloud Uploaded Timestamp From Site', y='Counts', figsize=(10,3), title='Uploads by Month')"
   ]
  },
  {
   "cell_type": "code",
   "execution_count": null,
   "id": "67ef222e",
   "metadata": {},
   "outputs": [],
   "source": []
  }
 ],
 "metadata": {
  "kernelspec": {
   "display_name": "Python 3 (ipykernel)",
   "language": "python",
   "name": "python3"
  },
  "language_info": {
   "codemirror_mode": {
    "name": "ipython",
    "version": 3
   },
   "file_extension": ".py",
   "mimetype": "text/x-python",
   "name": "python",
   "nbconvert_exporter": "python",
   "pygments_lexer": "ipython3",
   "version": "3.10.4"
  }
 },
 "nbformat": 4,
 "nbformat_minor": 5
}
